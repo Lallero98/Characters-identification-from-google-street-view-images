{
 "nbformat": 4,
 "nbformat_minor": 0,
 "metadata": {
  "colab": {
   "name": "MLDA",
   "provenance": []
  },
  "kernelspec": {
   "name": "python3",
   "display_name": "Python 3"
  },
  "language_info": {
   "name": "python"
  },
  "gpuClass": "standard"
 },
 "cells": [
  {
   "cell_type": "markdown",
   "source": [
    "# **1. Preprocessing**\n",
    "\n",
    "In this part we are going to import libraries and preprocess the data to have the dataset ready for my analisys\n",
    "\n",
    "---\n",
    "\n"
   ],
   "metadata": {
    "id": "THYBdl73eb08",
    "pycharm": {
     "name": "#%% md\n"
    }
   }
  },
  {
   "cell_type": "markdown",
   "source": [
    "Import the required libraries"
   ],
   "metadata": {
    "id": "204AiKVRcVYS",
    "pycharm": {
     "name": "#%% md\n"
    }
   }
  },
  {
   "cell_type": "code",
   "execution_count": null,
   "metadata": {
    "id": "lwscAV84Zsxp",
    "pycharm": {
     "name": "#%%\n"
    }
   },
   "outputs": [],
   "source": [
    "import numpy as np\n",
    "import pandas as pd\n",
    "import glob\n",
    "from skimage import io\n",
    "import matplotlib.pyplot as plt\n",
    "import skimage.color as skc\n",
    "\n",
    "from sklearn import metrics\n",
    "from sklearn.model_selection import train_test_split\n",
    "from sklearn.model_selection import GridSearchCV\n",
    "\n",
    "from sklearn.tree import DecisionTreeClassifier\n",
    "from sklearn.ensemble import RandomForestClassifier\n",
    "from sklearn.neighbors import KNeighborsClassifier\n",
    "from sklearn.svm import SVC\n",
    "\n",
    "import csv"
   ]
  },
  {
   "cell_type": "markdown",
   "source": [
    "Unzip the data"
   ],
   "metadata": {
    "id": "9OBNVrT0vZkP",
    "pycharm": {
     "name": "#%% md\n"
    }
   }
  },
  {
   "cell_type": "code",
   "source": [
    "!unzip testResized.zip\n",
    "!unzip trainResized.zip"
   ],
   "metadata": {
    "id": "lo3lGVuaz4er",
    "pycharm": {
     "name": "#%%\n"
    }
   },
   "execution_count": null,
   "outputs": []
  },
  {
   "cell_type": "markdown",
   "source": [
    "Convert the images to grayscale and put them in name order to match the csv"
   ],
   "metadata": {
    "id": "1IK5L6yCn9WZ",
    "pycharm": {
     "name": "#%% md\n"
    }
   }
  },
  {
   "cell_type": "code",
   "source": [
    "xTrain = [io.imread(file, as_gray=True) for file in sorted(glob.glob(\"trainResized/*.Bmp\"), key=lambda x: int(x [13:-4]))]\n",
    "xTest = [io.imread(file, as_gray=True) for file in sorted(glob.glob(\"testResized/*.Bmp\"), key=lambda x: int(x [12:-4]))]\n",
    "xTrain = np.stack(xTrain)\n",
    "xTest = np.stack(xTest)"
   ],
   "metadata": {
    "id": "1d_eRf4eef8f",
    "pycharm": {
     "name": "#%%\n"
    }
   },
   "execution_count": null,
   "outputs": []
  },
  {
   "cell_type": "markdown",
   "source": [
    "I remove some images of the dataset randomly to lighten it in order to avoid excessively long execution times by setting a seed in order to know which are the corresponding labels to be eliminated"
   ],
   "metadata": {
    "id": "bKf37VMiza7b",
    "pycharm": {
     "name": "#%% md\n"
    }
   }
  },
  {
   "cell_type": "code",
   "source": [
    "seed = 42\n",
    "rnd = np.random.default_rng(seed)\n",
    "xTrain = rnd.choice(xTrain, size=3000)"
   ],
   "metadata": {
    "id": "OvGMyrNfzaSf",
    "pycharm": {
     "name": "#%%\n"
    }
   },
   "execution_count": null,
   "outputs": []
  },
  {
   "cell_type": "markdown",
   "source": [
    "I read the csv with Numpy taking only the data relating to the images that I have not deleted"
   ],
   "metadata": {
    "id": "5eGxO5ckzuL2",
    "pycharm": {
     "name": "#%% md\n"
    }
   }
  },
  {
   "cell_type": "code",
   "source": [
    "myData = np.genfromtxt(\"trainLabels.csv\", delimiter=\",\", dtype=\"str\", skip_header=1)\n",
    "yTrain = myData[:,1]\n",
    "rnd = np.random.default_rng(seed)\n",
    "yTrain = rnd.choice(yTrain, size=3000)"
   ],
   "metadata": {
    "id": "mBIVx9zNo_rJ",
    "pycharm": {
     "name": "#%%\n"
    }
   },
   "execution_count": null,
   "outputs": []
  },
  {
   "cell_type": "markdown",
   "source": [
    "I divide my training set into 2 sets:\n",
    "\n",
    "*   training set: is a data set of examples used during the learning process and is used to fit the parameters\n",
    "*   test set: A test data set is a data set that is independent of the training data set, but that follows the same probability distribution as the training data set"
   ],
   "metadata": {
    "id": "Sjaw0x8R4Pux",
    "pycharm": {
     "name": "#%% md\n"
    }
   }
  },
  {
   "cell_type": "code",
   "source": [
    "xTrain, xVal, yTrain, yVal = train_test_split(xTrain, yTrain, test_size = 0.25, random_state = 8)\n",
    "xTrain = xTrain.reshape((xTrain.shape[0],-1))\n",
    "xVal = xVal.reshape((xVal.shape[0],-1))\n",
    "xTest = xTest.reshape((xTest.shape[0],-1))"
   ],
   "metadata": {
    "id": "nsQFE8QI4ASt",
    "pycharm": {
     "name": "#%%\n"
    }
   },
   "execution_count": null,
   "outputs": []
  },
  {
   "cell_type": "markdown",
   "source": [
    "\n",
    "\n",
    "---\n",
    "\n",
    "\n",
    "# **1.   KNN**"
   ],
   "metadata": {
    "id": "raV7WfJt25eQ",
    "pycharm": {
     "name": "#%% md\n"
    }
   }
  },
  {
   "cell_type": "markdown",
   "source": [
    "In this part I will use the KNN model to classify my data\n",
    "\n",
    "---\n",
    "\n"
   ],
   "metadata": {
    "id": "ISuXbIKSjSCR",
    "pycharm": {
     "name": "#%% md\n"
    }
   }
  },
  {
   "cell_type": "markdown",
   "source": [
    "I define a series of parameters that will be combined by cross validation to identify the best combination"
   ],
   "metadata": {
    "id": "XnRjYeUyQvnf",
    "pycharm": {
     "name": "#%% md\n"
    }
   }
  },
  {
   "cell_type": "code",
   "source": [
    "params = {'n_neighbors':[3, 5, 11, 25], 'p':[1, 2, 4], 'weights':['uniform', 'distance']}\n",
    "knc = KNeighborsClassifier()\n",
    "knn_clf = GridSearchCV(knc, param_grid = params, cv = 5)"
   ],
   "metadata": {
    "id": "ulZ_aFHE6spB",
    "pycharm": {
     "name": "#%%\n"
    }
   },
   "execution_count": null,
   "outputs": []
  },
  {
   "cell_type": "code",
   "source": [
    "knn_clf.fit(xTrain, yTrain)"
   ],
   "metadata": {
    "id": "BhVwLXzk7iCV",
    "pycharm": {
     "name": "#%%\n"
    }
   },
   "execution_count": null,
   "outputs": []
  },
  {
   "cell_type": "markdown",
   "source": [
    "I run the predict on my test set and print the accuracy, the best score (best average accuracy on the training set) and the best combination of parameters"
   ],
   "metadata": {
    "id": "Hg-04Ep_QyhX",
    "pycharm": {
     "name": "#%% md\n"
    }
   }
  },
  {
   "cell_type": "code",
   "source": [
    "yPredict = knn_clf.predict(xVal)\n",
    "knn_acc_score = metrics.accuracy_score(yVal, yPredict)\n",
    "print(\"KNN Accuracy Score is: {}\".format(knn_acc_score))\n",
    "print('Best average accuracy: {}'.format(knn_clf.best_score_)) # best average accuracy on the training set\n",
    "print('Best parameters: {}'.format(knn_clf.best_params_))"
   ],
   "metadata": {
    "id": "ozqVGp_6S7tI",
    "pycharm": {
     "name": "#%%\n"
    }
   },
   "execution_count": null,
   "outputs": []
  },
  {
   "cell_type": "markdown",
   "source": [
    "\n",
    "\n",
    "---\n",
    "\n",
    "\n",
    "# **2.   Random Forest Classifier**\n",
    "\n",
    "\n"
   ],
   "metadata": {
    "id": "wX_nByU29q7V",
    "pycharm": {
     "name": "#%% md\n"
    }
   }
  },
  {
   "cell_type": "markdown",
   "source": [
    "\n",
    "In this part I will use the Random forest classifier to classify my data\n",
    "\n",
    "---"
   ],
   "metadata": {
    "id": "ksFh-yDNXT1k",
    "pycharm": {
     "name": "#%% md\n"
    }
   }
  },
  {
   "cell_type": "markdown",
   "source": [
    "I define a series of parameters that will be combined by cross validation to identify the best combination(sample=image)"
   ],
   "metadata": {
    "id": "HqN5TDgWSCjK",
    "pycharm": {
     "name": "#%% md\n"
    }
   }
  },
  {
   "cell_type": "code",
   "source": [
    "params = {'max_depth': [5, 7, 9, None], 'min_samples_split': [2, 5, 10], 'n_estimators': [10, 100, 200, 500]}\n",
    "rf = RandomForestClassifier(criterion='entropy', max_features='auto') # max_features \"auto\" = sqrt(n_features) number of features resonable considering also execution time\n",
    "rf_clf = GridSearchCV(rf, param_grid = params, cv = 5)"
   ],
   "metadata": {
    "id": "T5NB91Cm3dvu",
    "pycharm": {
     "name": "#%%\n"
    }
   },
   "execution_count": null,
   "outputs": []
  },
  {
   "cell_type": "code",
   "source": [
    "rf_clf.fit(xTrain, yTrain)"
   ],
   "metadata": {
    "id": "6MQjBj5s-K9_",
    "pycharm": {
     "name": "#%%\n"
    }
   },
   "execution_count": null,
   "outputs": []
  },
  {
   "cell_type": "markdown",
   "source": [
    "I run the predict on my test set and print the accuracy, the best score (best average accuracy on the training set) and the best combination of parameters"
   ],
   "metadata": {
    "id": "ras92AThSNIg",
    "pycharm": {
     "name": "#%% md\n"
    }
   }
  },
  {
   "cell_type": "code",
   "source": [
    "yPredict = rf_clf.predict(xVal)\n",
    "rf_acc_score = metrics.accuracy_score(yVal, yPredict)\n",
    "print(\"Random Forest Accuracy Score is: {}\".format(rf_acc_score))\n",
    "print('Best average accuracy: {}'.format(rf_clf.best_score_))\n",
    "print('Best parameters: {}'.format(rf_clf.best_params_))"
   ],
   "metadata": {
    "id": "tF4omyaW-KVj",
    "colab": {
     "base_uri": "https://localhost:8080/"
    },
    "outputId": "03140666-d744-4631-ae44-d92405f16dd1",
    "pycharm": {
     "name": "#%%\n"
    }
   },
   "execution_count": null,
   "outputs": [
    {
     "output_type": "stream",
     "name": "stdout",
     "text": [
      "Random Forest Accuracy Score is: 0.592\n",
      "Best score: 0.5444444444444445\n",
      "Best parameters: {'max_depth': None, 'min_samples_split': 2, 'n_estimators': 500}\n"
     ]
    }
   ]
  },
  {
   "cell_type": "markdown",
   "source": [
    "\n",
    "\n",
    "---\n",
    "\n",
    "\n",
    "# **3.   Support Vector Classificator**"
   ],
   "metadata": {
    "id": "ZCpJXtQXCSPj",
    "pycharm": {
     "name": "#%% md\n"
    }
   }
  },
  {
   "cell_type": "markdown",
   "source": [
    "In this part I will use the Support Vector Classification to classify my data\n",
    "\n",
    "\n",
    "---\n",
    "\n"
   ],
   "metadata": {
    "id": "OnhXf7zdjz-1",
    "pycharm": {
     "name": "#%% md\n"
    }
   }
  },
  {
   "cell_type": "markdown",
   "source": [
    "Balance complexity function with data fit"
   ],
   "metadata": {
    "id": "_5yQME0Adj7p",
    "pycharm": {
     "name": "#%% md\n"
    }
   }
  },
  {
   "cell_type": "markdown",
   "source": [
    "I define a series of parameters that will be combined by cross validation to identify the best combination"
   ],
   "metadata": {
    "id": "uquVK0Y-Sf0N",
    "pycharm": {
     "name": "#%% md\n"
    }
   }
  },
  {
   "cell_type": "code",
   "source": [
    "params = {'kernel':['linear', 'poly', 'rbf'], 'C':[0.001, 0.01, 0.1, 1, 10, 100], 'gamma':['scale','auto']} #C regularization parameter\n",
    "svc = SVC()\n",
    "svc_clf = GridSearchCV(svc, param_grid = params, cv = 5, verbose=2)"
   ],
   "metadata": {
    "id": "_3YJyZVyFu5I",
    "pycharm": {
     "name": "#%%\n"
    }
   },
   "execution_count": null,
   "outputs": []
  },
  {
   "cell_type": "code",
   "source": [
    "svc_clf.fit(xTrain, yTrain)"
   ],
   "metadata": {
    "id": "X--F_wnL2oHT",
    "pycharm": {
     "name": "#%%\n"
    }
   },
   "execution_count": null,
   "outputs": []
  },
  {
   "cell_type": "markdown",
   "source": [
    "I run the predict on my test set and print the accuracy, the best score (best average accuracy on the training set) and the best combination of parameters"
   ],
   "metadata": {
    "id": "bpFvMhmNUBJd",
    "pycharm": {
     "name": "#%% md\n"
    }
   }
  },
  {
   "cell_type": "code",
   "source": [
    "yPredict = svc_clf.predict(xVal)\n",
    "svc_acc_score = metrics.accuracy_score(yVal, yPredict)\n",
    "print(\"Support Vector Accuracy Score is: {}\".format(svc_acc_score))\n",
    "print('Best average accuracy: {}'.format(svc_clf.best_score_))\n",
    "print('Best parameters: {}'.format(svc_clf.best_params_))"
   ],
   "metadata": {
    "colab": {
     "base_uri": "https://localhost:8080/"
    },
    "id": "d-VXYiWo2kKW",
    "outputId": "9f192067-f16e-4f43-de6b-c8df48a649b6",
    "pycharm": {
     "name": "#%%\n"
    }
   },
   "execution_count": null,
   "outputs": [
    {
     "output_type": "stream",
     "name": "stdout",
     "text": [
      "Support Vector Accuracy Score is: 0.43333333333333335\n",
      "Best score: 0.3928888888888889\n",
      "Best parameters: {'C': 100, 'gamma': 'auto', 'kernel': 'rbf'}\n"
     ]
    }
   ]
  },
  {
   "cell_type": "markdown",
   "source": [
    "\n",
    "\n",
    "---\n",
    "\n",
    "\n",
    "# **4.   Final Result**"
   ],
   "metadata": {
    "id": "RHweFpN-4qGP",
    "pycharm": {
     "name": "#%% md\n"
    }
   }
  },
  {
   "cell_type": "markdown",
   "source": [
    "Having the accuracy of the 3 algorithms and the best parameters, I select the algorithm and the parameters that define the highest accuracy and perform the predict with the \"real\" test set"
   ],
   "metadata": {
    "id": "ab0ZGlr7_Xyd",
    "pycharm": {
     "name": "#%% md\n"
    }
   }
  },
  {
   "cell_type": "code",
   "source": [
    "rf = RandomForestClassifier(criterion='entropy', max_features='auto', max_depth=None, min_samples_split=2, n_estimators=500, verbose=2)\n",
    "rf.fit(xTrain,yTrain)"
   ],
   "metadata": {
    "id": "VH0iR8P1mkRQ",
    "pycharm": {
     "name": "#%%\n"
    }
   },
   "execution_count": null,
   "outputs": []
  },
  {
   "cell_type": "markdown",
   "source": [
    "I get the results"
   ],
   "metadata": {
    "id": "GTWDppGTw0C7",
    "pycharm": {
     "name": "#%% md\n"
    }
   }
  },
  {
   "cell_type": "code",
   "source": [
    "testPredictRF = rf.predict(xTest)"
   ],
   "metadata": {
    "id": "oClrRxvt_OEf",
    "pycharm": {
     "name": "#%%\n"
    }
   },
   "execution_count": null,
   "outputs": []
  },
  {
   "cell_type": "markdown",
   "source": [
    "I create the csv file to send to solve the challenge and get the result"
   ],
   "metadata": {
    "id": "QcyX0anleITu",
    "pycharm": {
     "name": "#%% md\n"
    }
   }
  },
  {
   "cell_type": "code",
   "source": [
    "result = []\n",
    "for i in range(6284,12504):\n",
    "  temp = (i,testPredictRF[i-6284])\n",
    "  result.append(temp)\n",
    "\n",
    "with open('SubmissionRF.csv','w') as out:\n",
    "    csv_out=csv.writer(out)\n",
    "    csv_out.writerow(['ID','Class'])\n",
    "    for row in result:\n",
    "        csv_out.writerow(row)"
   ],
   "metadata": {
    "id": "fedXr6CWpX2t",
    "pycharm": {
     "name": "#%%\n"
    }
   },
   "execution_count": null,
   "outputs": []
  },
  {
   "cell_type": "markdown",
   "source": [
    "Score: 0.40297"
   ],
   "metadata": {
    "id": "0kTeVJfV_j1-",
    "pycharm": {
     "name": "#%% md\n"
    }
   }
  },
  {
   "cell_type": "markdown",
   "source": [
    "\n",
    "\n",
    "---\n",
    "\n"
   ],
   "metadata": {
    "id": "NybXyMJl_bOP",
    "pycharm": {
     "name": "#%% md\n"
    }
   }
  }
 ]
}